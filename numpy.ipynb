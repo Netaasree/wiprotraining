{
 "cells": [
  {
   "cell_type": "code",
   "execution_count": 8,
   "id": "c71351e2",
   "metadata": {},
   "outputs": [
    {
     "name": "stdout",
     "output_type": "stream",
     "text": [
      "Vertical stack: \n",
      " [[3 4 5]\n",
      " [5 6 7]]\n",
      "Horizontal stack: \n",
      " [3 4 5 5 6 7]\n",
      "Element 5 access 6\n",
      "Element 5 access 6\n"
     ]
    }
   ],
   "source": [
    "'''vertical and horizontal - vstack and hstack\n",
    "code to take two arrays a and b integrate a and b vertically annd horizontally'''\n",
    "import numpy as np\n",
    "a=list(map(int,input(\"Enter 3 numbers for array a,space seperated: \").split()))\n",
    "b=list(map(int,input(\"Enter 3 numbers for array b,space seperated: \").split()))\n",
    "a=np.array(a)\n",
    "b=np.array(b)\n",
    "v=np.vstack((a,b))\n",
    "print(\"Vertical stack: \\n\",np.vstack((a,b)))\n",
    "print(\"Horizontal stack: \\n\",np.hstack((a,b)))\n",
    "print(\"Element 5 access\",v[1,1])\n",
    "print(\"Element 5 access\",v[1][1])"
   ]
  },
  {
   "cell_type": "code",
   "execution_count": 3,
   "id": "e72945e7",
   "metadata": {},
   "outputs": [
    {
     "name": "stdout",
     "output_type": "stream",
     "text": [
      "Odd numbers list:  [5 7]\n"
     ]
    }
   ],
   "source": [
    "'''code to extract all the odd numbers from user input\n",
    "and print them in a list using array of numpy\n",
    "input:1 2 3 4 5 9 8 7 6\n",
    "outputt:[1,3,5,9,7]\n",
    "'''\n",
    "import numpy as np\n",
    "a=input(\"Enter the array you wantt by giving spaces:\")\n",
    "arr=np.array(list(map(int,a.split())))\n",
    "odd_numbers=arr[arr%2==1]\n",
    "print(\"Odd numbers list: \",odd_numbers)"
   ]
  },
  {
   "cell_type": "code",
   "execution_count": 11,
   "id": "53df8d27",
   "metadata": {},
   "outputs": [
    {
     "name": "stdout",
     "output_type": "stream",
     "text": [
      "Odd numbers list:  [-1  4 -1  6 -1  8]\n"
     ]
    }
   ],
   "source": [
    "'''\n",
    "input:1 2 3 4 5\n",
    "outputt:[-1,2,-1,4,-1]\n",
    "'''\n",
    "import numpy as np\n",
    "a=input(\"Enter the array you wantt by giving spaces:\")\n",
    "arr=np.array(list(map(int,a.split())))\n",
    "arr[arr%2==1]=-1\n",
    "print(\"Odd numbers list: \",arr)"
   ]
  },
  {
   "cell_type": "code",
   "execution_count": 26,
   "id": "f8f71d93",
   "metadata": {},
   "outputs": [
    {
     "name": "stdout",
     "output_type": "stream",
     "text": [
      "[False False  True False False  True False False False  True False]\n"
     ]
    }
   ],
   "source": [
    "'''\n",
    "input:1 2 3 4 5\n",
    "outputt:[True,2,True,4,True]\n",
    "'''\n",
    "import numpy as np\n",
    "data=input(\"Enter numbers seperated by spaces: \")\n",
    "arr=np.array(list(map(int,data.split())),dtype=object)\n",
    "mask=arr%3==0\n",
    "print(mask)"
   ]
  },
  {
   "cell_type": "code",
   "execution_count": 29,
   "id": "20d56887",
   "metadata": {},
   "outputs": [
    {
     "name": "stdout",
     "output_type": "stream",
     "text": [
      "Element at[0,1]: 2\n",
      "Frist row [1 2 3]\n",
      "First row: [[2 3]\n",
      " [5 6]]\n",
      "modify: [[100   2   3]\n",
      " [  4   5   6]]\n"
     ]
    }
   ],
   "source": [
    "import numpy as np\n",
    "arr=np.array([[1,2,3],[4,5,6]])\n",
    "print(\"Element at[0,1]:\",arr[0,1])\n",
    "print(\"Frist row\",arr[0,:])\n",
    "print(\"First row:\",arr[:,1:])\n",
    "arr[0,0]=100\n",
    "print(\"modify:\",arr)"
   ]
  },
  {
   "cell_type": "code",
   "execution_count": 30,
   "id": "2a96e054",
   "metadata": {},
   "outputs": [
    {
     "name": "stdout",
     "output_type": "stream",
     "text": [
      "Mean inoring NaN: 2.75\n",
      "sum: nan\n",
      "std Ignoing NaN: 1.479019945774904\n"
     ]
    }
   ],
   "source": [
    "#NaN\n",
    "import numpy\n",
    "arr=np.array([1,2,3,np.nan,5])\n",
    "print(\"Mean inoring NaN:\",np.nanmean(arr))\n",
    "print(\"sum:\",np.sum(arr))\n",
    "#sqrt1.N Ei=1 to N(x~i=u)**2\n",
    "print(\"std Ignoing NaN:\",np.std(arr[~np.isnan(arr)]))"
   ]
  },
  {
   "cell_type": "code",
   "execution_count": 1,
   "id": "224f30d5",
   "metadata": {},
   "outputs": [
    {
     "name": "stdout",
     "output_type": "stream",
     "text": [
      "[1. 0. 3. 4. 5.]\n"
     ]
    }
   ],
   "source": [
    "#replace NaN\n",
    "import numpy as np\n",
    "arr=np.array([1,np.nan,3,4,5])\n",
    "n=np.where(np.isnan(arr),0,arr)\n",
    "print(n)"
   ]
  },
  {
   "cell_type": "code",
   "execution_count": 17,
   "id": "f1aaee4e",
   "metadata": {},
   "outputs": [
    {
     "name": "stdout",
     "output_type": "stream",
     "text": [
      "[1 2 9]\n",
      "[1. 2. 3. 4.]\n",
      "['1.5' '2.9' '9.8']\n",
      "[False  True  True False]\n",
      "[1 1 0 1]\n",
      "[1.5+0.j 2.9+0.j 9.8+0.j]\n",
      "[1 2 3 4]\n"
     ]
    },
    {
     "ename": "NameError",
     "evalue": "name 'datatime64' is not defined",
     "output_type": "error",
     "traceback": [
      "\u001b[1;31m---------------------------------------------------------------------------\u001b[0m",
      "\u001b[1;31mNameError\u001b[0m                                 Traceback (most recent call last)",
      "Cell \u001b[1;32mIn[17], line 18\u001b[0m\n\u001b[0;32m     16\u001b[0m \u001b[38;5;28mprint\u001b[39m(a7\u001b[38;5;241m.\u001b[39mastype(np\u001b[38;5;241m.\u001b[39mint8))\n\u001b[0;32m     17\u001b[0m a8\u001b[38;5;241m=\u001b[39mnp\u001b[38;5;241m.\u001b[39marray([\u001b[38;5;241m20250802\u001b[39m,\u001b[38;5;241m20050204\u001b[39m])\n\u001b[1;32m---> 18\u001b[0m \u001b[38;5;28mprint\u001b[39m(a8\u001b[38;5;241m.\u001b[39mastype(datatime64[D]))\n",
      "\u001b[1;31mNameError\u001b[0m: name 'datatime64' is not defined"
     ]
    }
   ],
   "source": [
    "#universal functions ufuncs()\n",
    "import numpy as np\n",
    "a1=np.array([1.5,2.9,9.8])\n",
    "print(a1.astype(np.int32))\n",
    "a2=np.array([1,2,3,4])\n",
    "print(a2.astype(np.float64))\n",
    "a3=np.array([1.5,2.9,9.8])\n",
    "print(a3.astype(str))\n",
    "a4=np.array([0,1,7,0])\n",
    "print(a4.astype(bool))\n",
    "a5=np.array([True,True,False,True])\n",
    "print(a5.astype(np.int32))\n",
    "a6=np.array([1.5,2.9,9.8])\n",
    "print(a6.astype(np.complex128))\n",
    "a7=np.array([1,2,3,4])\n",
    "print(a7.astype(np.int8))\n",
    "a8=np.array([20250802,20050204])\n",
    "print(a8.astype(datatime64[D]))\n"
   ]
  }
 ],
 "metadata": {
  "kernelspec": {
   "display_name": "base",
   "language": "python",
   "name": "python3"
  },
  "language_info": {
   "codemirror_mode": {
    "name": "ipython",
    "version": 3
   },
   "file_extension": ".py",
   "mimetype": "text/x-python",
   "name": "python",
   "nbconvert_exporter": "python",
   "pygments_lexer": "ipython3",
   "version": "3.12.7"
  }
 },
 "nbformat": 4,
 "nbformat_minor": 5
}
