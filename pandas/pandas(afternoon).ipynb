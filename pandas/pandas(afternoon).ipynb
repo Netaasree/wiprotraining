{
 "cells": [
  {
   "cell_type": "markdown",
   "id": "8083af4f",
   "metadata": {},
   "source": [
    "AFTERNOON CODES"
   ]
  },
  {
   "cell_type": "code",
   "execution_count": 7,
   "id": "e2b47e4e",
   "metadata": {},
   "outputs": [
    {
     "name": "stdout",
     "output_type": "stream",
     "text": [
      "    Name  Age Branch\n",
      "0   Mark   22    EEE\n",
      "1  Steve   21    CSE\n",
      "2  Jenny   22   Mech\n",
      "0     Mark\n",
      "1    Steve\n",
      "2    Jenny\n",
      "Name: Name, dtype: object\n",
      "    Name Branch\n",
      "0   Mark    EEE\n",
      "1  Steve    CSE\n",
      "2  Jenny   Mech\n"
     ]
    }
   ],
   "source": [
    "#df\n",
    "import pandas as pd\n",
    "data={'Name':['Mark','Steve','Jenny'],\n",
    "      'Age':[22,21,22],\n",
    "      'Branch':['EEE','CSE','Mech']}\n",
    "dframe=pd.DataFrame(data)\n",
    "print(dframe)\n",
    "print(dframe['Name'])\n",
    "print(dframe[['Name','Branch']])"
   ]
  },
  {
   "cell_type": "code",
   "execution_count": 1,
   "id": "356f0f4a",
   "metadata": {},
   "outputs": [
    {
     "name": "stdout",
     "output_type": "stream",
     "text": [
      "----Enter1----\n",
      "----Enter2----\n",
      "----Enter3----\n",
      "\n",
      " DataFrame created\n",
      "    Name Age Branch\n",
      "0   neta  20    cse\n",
      "1  venky  22    ece\n",
      "2   siva  25  civil\n"
     ]
    }
   ],
   "source": [
    "#userdf\n",
    "import pandas as pd\n",
    "n=int(input(\"Enter number of profiles:\"))\n",
    "names=[]\n",
    "ages=[]\n",
    "branches=[]\n",
    "for i in range(n):\n",
    "    print(f\"----Enter{i+1}----\")\n",
    "    name=input(\"Enter Name:\")\n",
    "    age=input(\"Enter Age:\")\n",
    "    branch=input(\"Enter Branch:\")\n",
    "    names.append(name)\n",
    "    ages.append(age)\n",
    "    branches.append(branch)\n",
    "data={\"Name\":names,'Age':ages,'Branch':branches}\n",
    "df=pd.DataFrame(data)\n",
    "print(\"\\n DataFrame created\")\n",
    "print(df)"
   ]
  },
  {
   "cell_type": "code",
   "execution_count": null,
   "id": "ffeab3d3",
   "metadata": {},
   "outputs": [
    {
     "name": "stdout",
     "output_type": "stream",
     "text": [
      "    Name  Age Branch\n",
      "0   Mark   22    EEE\n",
      "1  Steve   21    CSE\n",
      "2  Jenny   22   Mech\n",
      "0     Mark\n",
      "1    Steve\n",
      "2    Jenny\n",
      "Name: Name, dtype: object\n",
      "-----1\n",
      "    Name Branch\n",
      "0   Mark    EEE\n",
      "1  Steve    CSE\n",
      "2  Jenny   Mech\n",
      "-----2\n",
      "Name      Steve\n",
      "Age          21\n",
      "Branch      CSE\n",
      "Name: 1, dtype: object\n",
      "-----3\n",
      "    Name  Age Branch\n",
      "0   Mark   22    EEE\n",
      "1  Steve   21    CSE\n",
      "2  Jenny   22   Mech\n",
      "-----4\n",
      "    Name  Age Branch  salary\n",
      "0   Mark   22    EEE   10000\n",
      "1  Steve   21    CSE   11000\n",
      "2  Jenny   22   Mech    9000\n",
      "---------------5\n",
      "    Name  Age Branch  salary\n",
      "0   Mark   22    EEE   10000\n",
      "1  Steve   21    CSE   11000\n",
      "2  Jenny   25   Mech    9000\n"
     ]
    }
   ],
   "source": [
    "#df2\n",
    "import pandas as pd\n",
    "data={'Name':['Mark','Steve','Jenny'],\n",
    "      'Age':[22,21,22],\n",
    "      'Branch':['EEE','CSE','Mech']}\n",
    "dframe=pd.DataFrame(data)\n",
    "print(dframe)\n",
    "print(dframe['Name'])\n",
    "print(\"-----1\")\n",
    "print(dframe[['Name','Branch']]) \n",
    "print(\"-----2\")\n",
    "print(dframe.iloc[1])\n",
    "print(\"-----3\")\n",
    "stipend=[10000,11000,9000]\n",
    "print(dframe)\n",
    "print(\"-----4\")\n",
    "dframe.insert(3,'salary',stipend)\n",
    "print(dframe)\n",
    "print(\"---------------5\")#some error occured\n",
    "dframe.at[2,'Age']=25\n",
    "print(dframe)"
   ]
  },
  {
   "cell_type": "code",
   "execution_count": 18,
   "id": "f36002bb",
   "metadata": {},
   "outputs": [
    {
     "name": "stdout",
     "output_type": "stream",
     "text": [
      "Created data successfully...\n"
     ]
    }
   ],
   "source": [
    "#access_csv.py\n",
    "import pandas as pd\n",
    "import numpy as np\n",
    "data={\n",
    "    'patient_ID':['P001','P002','P003','P004','P005','P006'],\n",
    "    'Name':['vijay','Ajay','kiran','Amit','suresh',None],\n",
    "    'Age':[34,30,None,60,25,50],\n",
    "    'Department':['carona','cancer','neurology','cardiology','cancer','ICU'],\n",
    "    'Bill':[7000,8000,9000,10000,11000,None]\n",
    "}\n",
    "df=pd.DataFrame(data)\n",
    "df.to_csv('hospital_data.csv',index=False)\n",
    "print(\"Created data successfully...\")"
   ]
  },
  {
   "cell_type": "code",
   "execution_count": 19,
   "id": "f86aef42",
   "metadata": {},
   "outputs": [
    {
     "name": "stdout",
     "output_type": "stream",
     "text": [
      "\n",
      " Hospital DataFrame: \n",
      "  patient_ID    Name   Age  Department     Bill\n",
      "0       P001   vijay  34.0      carona   7000.0\n",
      "1       P002    Ajay  30.0      cancer   8000.0\n",
      "2       P003   kiran   NaN   neurology   9000.0\n",
      "3       P004    Amit  60.0  cardiology  10000.0\n",
      "4       P005  suresh  25.0      cancer  11000.0\n",
      "5       P006     NaN  50.0         ICU      NaN\n",
      "\n",
      " DataFrame Info: \n",
      "<class 'pandas.core.frame.DataFrame'>\n",
      "RangeIndex: 6 entries, 0 to 5\n",
      "Data columns (total 5 columns):\n",
      " #   Column      Non-Null Count  Dtype  \n",
      "---  ------      --------------  -----  \n",
      " 0   patient_ID  6 non-null      object \n",
      " 1   Name        5 non-null      object \n",
      " 2   Age         5 non-null      float64\n",
      " 3   Department  6 non-null      object \n",
      " 4   Bill        5 non-null      float64\n",
      "dtypes: float64(2), object(3)\n",
      "memory usage: 372.0+ bytes\n",
      "None\n",
      "\n",
      " summary statistics\n",
      "             Age         Bill\n",
      "count   5.000000      5.00000\n",
      "mean   39.800000   9000.00000\n",
      "std    14.669697   1581.13883\n",
      "min    25.000000   7000.00000\n",
      "25%    30.000000   8000.00000\n",
      "50%    34.000000   9000.00000\n",
      "75%    50.000000  10000.00000\n",
      "max    60.000000  11000.00000\n"
     ]
    }
   ],
   "source": [
    "#explore\n",
    "import pandas as pd\n",
    "try:\n",
    "    df=pd.read_csv('hospital_data.csv')\n",
    "    print(\"\\n Hospital DataFrame: \")\n",
    "    print(df)\n",
    "#Display basic info\n",
    "    print(\"\\n DataFrame Info: \")\n",
    "    print(df.info())\n",
    "    print(\"\\n summary statistics\")\n",
    "    print(df.describe())\n",
    "except FileNotFoundError:\n",
    "    print(\"Error:'hospital_data.csv' not found.\")"
   ]
  },
  {
   "cell_type": "code",
   "execution_count": 21,
   "id": "5a5d5a7f",
   "metadata": {},
   "outputs": [
    {
     "name": "stdout",
     "output_type": "stream",
     "text": [
      "\n",
      " Original hospital DataFrame\n",
      "  patient_ID    Name   Age  Department     Bill\n",
      "0       P001   vijay  34.0      carona   7000.0\n",
      "1       P002    Ajay  30.0      cancer   8000.0\n",
      "2       P003   kiran   NaN   neurology   9000.0\n",
      "3       P004    Amit  60.0  cardiology  10000.0\n",
      "4       P005  suresh  25.0      cancer  11000.0\n",
      "5       P006     NaN  50.0         ICU      NaN\n",
      "\n",
      " mising values\n",
      "   patient_ID   Name    Age  Department   Bill\n",
      "0       False  False  False       False  False\n",
      "1       False  False  False       False  False\n",
      "2       False  False   True       False  False\n",
      "3       False  False  False       False  False\n",
      "4       False  False  False       False  False\n",
      "5       False   True  False       False   True\n",
      "\n",
      " dataframe after filling by default: \n",
      "  patient_ID    Name   Age  Department     Bill\n",
      "0       P001   vijay  34.0      carona   7000.0\n",
      "1       P002    Ajay  30.0      cancer   8000.0\n",
      "2       P003   kiran  39.8   neurology   9000.0\n",
      "3       P004    Amit  60.0  cardiology  10000.0\n",
      "4       P005  suresh  25.0      cancer  11000.0\n",
      "5       P006  Unkown  50.0         ICU      0.0\n"
     ]
    }
   ],
   "source": [
    "#missingdf\n",
    "import pandas as pd\n",
    "try:\n",
    "    df=pd.read_csv('hospital_data.csv')\n",
    "    print(\"\\n Original hospital DataFrame\")\n",
    "    print(df)\n",
    "#check missing values\n",
    "    print(\"\\n mising values\")\n",
    "    print(df.isna())\n",
    "#filling name by unknown,value by 0\n",
    "    df_filled=df.copy()\n",
    "    df_filled['Name']=df_filled['Name'].fillna('Unkown')\n",
    "    df_filled['Age']=df_filled['Age'].fillna(df_filled['Age'].mean())\n",
    "    df_filled['Bill']=df_filled['Bill'].fillna(0)\n",
    "    print(\"\\n dataframe after filling by default: \")\n",
    "    print(df_filled)\n",
    "except FileNotFoundError:\n",
    "    print(\"Errror: 'hospital_data.csv' not found\")"
   ]
  },
  {
   "cell_type": "code",
   "execution_count": null,
   "id": "10084a8f",
   "metadata": {},
   "outputs": [],
   "source": []
  }
 ],
 "metadata": {
  "kernelspec": {
   "display_name": "base",
   "language": "python",
   "name": "python3"
  },
  "language_info": {
   "codemirror_mode": {
    "name": "ipython",
    "version": 3
   },
   "file_extension": ".py",
   "mimetype": "text/x-python",
   "name": "python",
   "nbconvert_exporter": "python",
   "pygments_lexer": "ipython3",
   "version": "3.12.7"
  }
 },
 "nbformat": 4,
 "nbformat_minor": 5
}
