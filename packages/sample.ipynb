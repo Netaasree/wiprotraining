{
 "cells": [
  {
   "cell_type": "code",
   "execution_count": 1,
   "id": "46a6084b",
   "metadata": {},
   "outputs": [
    {
     "name": "stdout",
     "output_type": "stream",
     "text": [
      "hello\n"
     ]
    }
   ],
   "source": [
    "print(\"hello\")"
   ]
  },
  {
   "cell_type": "code",
   "execution_count": 3,
   "id": "67f85733",
   "metadata": {},
   "outputs": [
    {
     "name": "stdout",
     "output_type": "stream",
     "text": [
      "Array 1-D [1 2 3 4 5]\n",
      "Array 2-D \n",
      " [[1 2]\n",
      " [3 4]]\n"
     ]
    }
   ],
   "source": [
    "import numpy as np\n",
    "x=np.array([1,2,3,4,5])\n",
    "print(\"Array 1-D\",x)\n",
    "y=np.array([[1,2],[3,4]])\n",
    "print(\"Array 2-D \\n\",y)"
   ]
  },
  {
   "cell_type": "code",
   "execution_count": 4,
   "id": "0bafb871",
   "metadata": {},
   "outputs": [
    {
     "name": "stdout",
     "output_type": "stream",
     "text": [
      "ones \n",
      " [[1. 1. 1. 1. 1. 1.]\n",
      " [1. 1. 1. 1. 1. 1.]\n",
      " [1. 1. 1. 1. 1. 1.]]\n"
     ]
    }
   ],
   "source": [
    "o=np.ones((3,6))\n",
    "print(\"ones \\n\",o)"
   ]
  },
  {
   "cell_type": "code",
   "execution_count": 7,
   "id": "f076c88d",
   "metadata": {},
   "outputs": [
    {
     "name": "stdout",
     "output_type": "stream",
     "text": [
      "Array:  [ 0  2  4  6  8 10]\n"
     ]
    }
   ],
   "source": [
    "r=np.arange(0,11,2)\n",
    "print(\"Array: \",r)"
   ]
  },
  {
   "cell_type": "code",
   "execution_count": 9,
   "id": "bf72c36e",
   "metadata": {},
   "outputs": [
    {
     "name": "stdout",
     "output_type": "stream",
     "text": [
      "Identical coordinates: \n",
      " [[1. 0. 0. 0. 0. 0. 0. 0.]\n",
      " [0. 1. 0. 0. 0. 0. 0. 0.]\n",
      " [0. 0. 1. 0. 0. 0. 0. 0.]\n",
      " [0. 0. 0. 1. 0. 0. 0. 0.]\n",
      " [0. 0. 0. 0. 1. 0. 0. 0.]\n",
      " [0. 0. 0. 0. 0. 1. 0. 0.]\n",
      " [0. 0. 0. 0. 0. 0. 1. 0.]\n",
      " [0. 0. 0. 0. 0. 0. 0. 1.]]\n"
     ]
    }
   ],
   "source": [
    "i=np.eye(8)\n",
    "print(\"Identical coordinates: \\n\",i)"
   ]
  },
  {
   "cell_type": "code",
   "execution_count": 11,
   "id": "4d02ddab",
   "metadata": {},
   "outputs": [
    {
     "name": "stdout",
     "output_type": "stream",
     "text": [
      "linespace [0.   0.25 0.5  0.75 1.  ]\n"
     ]
    }
   ],
   "source": [
    "seperate=np.linspace(0,1,5)\n",
    "print(\"linespace\",seperate)"
   ]
  }
 ],
 "metadata": {
  "kernelspec": {
   "display_name": "base",
   "language": "python",
   "name": "python3"
  },
  "language_info": {
   "codemirror_mode": {
    "name": "ipython",
    "version": 3
   },
   "file_extension": ".py",
   "mimetype": "text/x-python",
   "name": "python",
   "nbconvert_exporter": "python",
   "pygments_lexer": "ipython3",
   "version": "3.12.7"
  }
 },
 "nbformat": 4,
 "nbformat_minor": 5
}
