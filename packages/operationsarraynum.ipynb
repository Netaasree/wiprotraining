{
 "cells": [
  {
   "cell_type": "code",
   "execution_count": 2,
   "id": "73498e18",
   "metadata": {},
   "outputs": [
    {
     "name": "stdout",
     "output_type": "stream",
     "text": [
      "Addition: [ 6  8 10 12]\n",
      "product: [ 5 12 21 32]\n",
      "Square: [ 1  4  9 16]\n",
      "sin values [ 0.84147098  0.90929743  0.14112001 -0.7568025 ]\n"
     ]
    }
   ],
   "source": [
    "import numpy as np\n",
    "a=np.array([1,2,3,4])\n",
    "b=np.array([5,6,7,8])\n",
    "print(\"Addition:\",a+b)\n",
    "print(\"product:\",a*b)\n",
    "print(\"Square:\",a**2)\n",
    "print(\"sin values\",np.sin(a))"
   ]
  },
  {
   "cell_type": "code",
   "execution_count": 39,
   "id": "4e42365a",
   "metadata": {},
   "outputs": [
    {
     "name": "stdout",
     "output_type": "stream",
     "text": [
      "[1 2 3 4 5 6 7 8 9]\n",
      "[[1 2 3]\n",
      " [4 5 6]\n",
      " [7 8 9]]\n",
      "[1 2 3 4 5 6 7 8 9]\n",
      "greater than 5: [6 7 8 9]\n",
      "Random numbers between 0 to 3:  [0.42715257 0.68323237 0.33799975]\n",
      "Random integer: \n",
      " 94 (2, 3)\n"
     ]
    }
   ],
   "source": [
    "import numpy as np\n",
    "a=np.arange(1,10)\n",
    "print(a)\n",
    "reshaped=a.reshape((3,3))\n",
    "print(reshaped)\n",
    "linear=reshaped.reshape(-1)\n",
    "print(linear)\n",
    "print(\"greater than 5:\",linear[linear>5])\n",
    "\n",
    "print(\"Random numbers between 0 to 3: \",np.random.rand(3))\n",
    "print(\"Random integer: \\n\",np.random.randint(1,100),(2,3))"
   ]
  },
  {
   "cell_type": "code",
   "execution_count": 45,
   "id": "939d985c",
   "metadata": {},
   "outputs": [
    {
     "name": "stdout",
     "output_type": "stream",
     "text": [
      "[[ True  True  True]\n",
      " [ True  True  True]\n",
      " [ True  True  True]]\n",
      "[['*' '*' '*' '*']\n",
      " ['*' '*' '*' '*']\n",
      " ['*' '*' '*' '*']\n",
      " ['*' '*' '*' '*']]\n"
     ]
    }
   ],
   "source": [
    "'''code to print a 3x3 matrix which were filled with boolean value True using numpy'''\n",
    "import numpy as np\n",
    "a=np.full((3,3),True)\n",
    "print(a)\n",
    "\n",
    "b=np.full((4,4),'*')\n",
    "print(b)"
   ]
  }
 ],
 "metadata": {
  "kernelspec": {
   "display_name": "base",
   "language": "python",
   "name": "python3"
  },
  "language_info": {
   "codemirror_mode": {
    "name": "ipython",
    "version": 3
   },
   "file_extension": ".py",
   "mimetype": "text/x-python",
   "name": "python",
   "nbconvert_exporter": "python",
   "pygments_lexer": "ipython3",
   "version": "3.12.7"
  }
 },
 "nbformat": 4,
 "nbformat_minor": 5
}
